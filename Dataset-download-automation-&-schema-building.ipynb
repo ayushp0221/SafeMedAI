{
 "cells": [
  {
   "cell_type": "code",
   "execution_count": 4,
   "id": "5aea8cc7-053e-4a7b-a3f9-dc7cc8f91cf1",
   "metadata": {},
   "outputs": [
    {
     "name": "stdout",
     "output_type": "stream",
     "text": [
      "Existing file drug_interaction.json removed.\n",
      "Downloaded: drug_interaction.json\n",
      "Existing file ddinter_data.csv removed.\n",
      "Downloaded: ddinter_data.csv\n"
     ]
    }
   ],
   "source": [
    "import os\n",
    "import requests\n",
    "\n",
    "def download_file(url, filename):\n",
    "    \"\"\"Download a file from a given URL and save it locally.\n",
    "    If the file already exists, delete it and download the new content.\"\"\"\n",
    "    \n",
    "    # If file exists, remove it\n",
    "    if os.path.exists(filename):\n",
    "        os.remove(filename)\n",
    "        print(f\"Existing file {filename} removed.\")\n",
    "    \n",
    "    try:\n",
    "        response = requests.get(url, stream=True)\n",
    "        response.raise_for_status()  # Raise an error for bad status codes\n",
    "        \n",
    "        with open(filename, 'wb') as file:\n",
    "            for chunk in response.iter_content(chunk_size=8192):\n",
    "                file.write(chunk)\n",
    "        \n",
    "        print(f\"Downloaded: {filename}\")\n",
    "    except requests.exceptions.RequestException as e:\n",
    "        print(f\"Failed to download {url}. Error: {e}\")\n",
    "\n",
    "# URLs and corresponding filenames\n",
    "datasets = {\n",
    "    \"https://www.genome.jp/kegg-bin/download_htext?htext=br08332&format=json&filedir=\": \"drug_interaction.json\",\n",
    "    \"https://ddinter.scbdd.com/static/media/download/ddinter_downloads_code_A.csv\": \"ddinter_data.csv\"\n",
    "}\n",
    "\n",
    "# Download each file\n",
    "for url, filename in datasets.items():\n",
    "    download_file(url, filename)\n"
   ]
  },
  {
   "cell_type": "code",
   "execution_count": 12,
   "id": "bf9c8b4c-ea6e-4ee8-b39c-1a94708c4143",
   "metadata": {},
   "outputs": [
    {
     "name": "stdout",
     "output_type": "stream",
     "text": [
      "Existing file 'merged_drug_data.xlsx' has been deleted.\n",
      "Merged data has been written to 'merged_drug_data.xlsx'.\n"
     ]
    }
   ],
   "source": [
    "import json\n",
    "import os\n",
    "import re\n",
    "import pandas as pd\n",
    "\n",
    "def clean_drug_name(name):\n",
    "    \"\"\"\n",
    "    Splitting off any code portion (e.g., 'D01251  Ampicillin hydrate' -> 'Ampicillin hydrate').\n",
    "    Removing common suffixes (e.g., 'sodium', 'hydrate', 'phosphate', etc.).\n",
    "    Trimming extra spaces.\n",
    "    \"\"\"\n",
    "    name_parts = name.split('  ', 1)\n",
    "    \n",
    "    # The actual drug name is the second part if the code is present, otherwise the whole name\n",
    "    drug_name = name_parts[-1]\n",
    "    \n",
    "    # Remove common suffixes that may cause mismatches (case-insensitive)\n",
    "    drug_name = re.sub(\n",
    "        r'\\b(sodium|hydrate|phosphate|sulfate|chloride|mesylate|acetate|hydrochloride|anhydrous|glubionate)\\b',\n",
    "        '',\n",
    "        drug_name,\n",
    "        flags=re.IGNORECASE\n",
    "    )\n",
    "    \n",
    "    # Remove extra spaces\n",
    "    drug_name = re.sub(r'\\s+', ' ', drug_name).strip()\n",
    "    \n",
    "    return drug_name\n",
    "\n",
    "def extract_drug_classes(data, parent_class=None):\n",
    "    drug_class_mapping = {}\n",
    "    \n",
    "    if 'children' in data:\n",
    "        for child in data['children']:\n",
    "            if 'children' in child:\n",
    "                class_parts = child['name'].split('  ', 1)\n",
    "                class_name = class_parts[-1]  # e.g. \"Penicillin\" if child['name'] is \"DG01480  Penicillin\"\n",
    "                \n",
    "                drug_class_mapping.update(extract_drug_classes(child, class_name))\n",
    "            else:\n",
    "                drug_name = clean_drug_name(child['name'])\n",
    "                if parent_class:\n",
    "                    class_parts = parent_class.split('  ', 1)\n",
    "                    clean_class = class_parts[-1].strip()\n",
    "                    drug_class_mapping[drug_name] = clean_class\n",
    "                else:\n",
    "                    drug_class_mapping[drug_name] = None\n",
    "    \n",
    "    return drug_class_mapping\n",
    "\n",
    "def main():\n",
    "    json_file = \"drug_interaction.json\"\n",
    "    csv_file = \"ddinter_data.csv\"\n",
    "    output_file = \"merged_drug_data.xlsx\"\n",
    "\n",
    "    with open(json_file, 'r', encoding='utf-8') as f:\n",
    "        json_data = json.load(f)\n",
    "    drug_classes = extract_drug_classes(json_data)\n",
    "\n",
    "    df_csv = pd.read_csv(csv_file)\n",
    "\n",
    "    df_csv['Cleaned_Drug_A'] = df_csv['Drug_A'].apply(clean_drug_name)\n",
    "    df_csv['Cleaned_Drug_B'] = df_csv['Drug_B'].apply(clean_drug_name)\n",
    "\n",
    "    df_csv['Class_A'] = df_csv['Cleaned_Drug_A'].map(drug_classes)\n",
    "    df_csv['Class_B'] = df_csv['Cleaned_Drug_B'].map(drug_classes)\n",
    "\n",
    "    if os.path.exists(output_file):\n",
    "        os.remove(output_file)\n",
    "        print(f\"Existing file '{output_file}' has been deleted.\")\n",
    "\n",
    "    df_csv.to_excel(output_file, index=False)\n",
    "    print(f\"Merged data has been written to '{output_file}'.\")\n",
    "\n",
    "if __name__ == \"__main__\":\n",
    "    main()\n"
   ]
  },
  {
   "cell_type": "code",
   "execution_count": null,
   "id": "de75e134-4fea-4a0e-a964-1afb9498d4af",
   "metadata": {},
   "outputs": [],
   "source": []
  }
 ],
 "metadata": {
  "kernelspec": {
   "display_name": "Python 3 (ipykernel)",
   "language": "python",
   "name": "python3"
  },
  "language_info": {
   "codemirror_mode": {
    "name": "ipython",
    "version": 3
   },
   "file_extension": ".py",
   "mimetype": "text/x-python",
   "name": "python",
   "nbconvert_exporter": "python",
   "pygments_lexer": "ipython3",
   "version": "3.11.5"
  },
  "widgets": {
   "application/vnd.jupyter.widget-state+json": {
    "state": {},
    "version_major": 2,
    "version_minor": 0
   }
  }
 },
 "nbformat": 4,
 "nbformat_minor": 5
}
